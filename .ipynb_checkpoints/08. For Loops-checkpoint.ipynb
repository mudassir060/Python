{
 "cells": [
  {
   "cell_type": "markdown",
   "metadata": {},
   "source": [
    "# For Loop"
   ]
  },
  {
   "cell_type": "code",
   "execution_count": 3,
   "metadata": {},
   "outputs": [
    {
     "name": "stdout",
     "output_type": "stream",
     "text": [
      "0 Mudassir\n",
      "1 Mudassir\n",
      "2 Mudassir\n",
      "3 Mudassir\n",
      "4 Mudassir\n"
     ]
    }
   ],
   "source": [
    "for a in range(5):\n",
    "    print(a,\"Mudassir\")"
   ]
  },
  {
   "cell_type": "code",
   "execution_count": 2,
   "metadata": {},
   "outputs": [
    {
     "name": "stdout",
     "output_type": "stream",
     "text": [
      "1\n",
      "2\n",
      "3\n",
      "4\n",
      "5\n",
      "6\n",
      "7\n",
      "8\n",
      "9\n"
     ]
    }
   ],
   "source": [
    "for number in range(1,10):\n",
    "    print(number)"
   ]
  },
  {
   "cell_type": "code",
   "execution_count": 3,
   "metadata": {},
   "outputs": [
    {
     "name": "stdout",
     "output_type": "stream",
     "text": [
      "1\n",
      "4\n",
      "7\n"
     ]
    }
   ],
   "source": [
    "for number in range(1,10,3): #by different 3\n",
    "    print(number)"
   ]
  },
  {
   "cell_type": "code",
   "execution_count": 6,
   "metadata": {},
   "outputs": [
    {
     "name": "stdout",
     "output_type": "stream",
     "text": [
      "10\n",
      "8\n",
      "6\n",
      "4\n",
      "2\n"
     ]
    }
   ],
   "source": [
    "for number in range(10,1,-2): #by revese\n",
    "    print(number)"
   ]
  },
  {
   "cell_type": "code",
   "execution_count": 7,
   "metadata": {},
   "outputs": [],
   "source": [
    "#index    -5         -4       -3       -2        -1         -0\n",
    "fruits=['banana', 'orange', 'apple', 'cherry', 'apple', 'bluebrry']\n",
    "#index    0          1        2        3          4         5 "
   ]
  },
  {
   "cell_type": "code",
   "execution_count": 12,
   "metadata": {},
   "outputs": [
    {
     "name": "stdout",
     "output_type": "stream",
     "text": [
      "The Fruits are aviable banana\n",
      "The Fruits are aviable orange\n",
      "The Fruits are aviable apple\n",
      "The Fruits are aviable cherry\n",
      "The Fruits are aviable apple\n",
      "The Fruits are aviable bluebrry\n"
     ]
    }
   ],
   "source": [
    "for fruit in fruits:\n",
    "    print(\"The Fruits are aviable\",fruit)"
   ]
  },
  {
   "cell_type": "code",
   "execution_count": 13,
   "metadata": {},
   "outputs": [
    {
     "name": "stdout",
     "output_type": "stream",
     "text": [
      "The banana are aviable\n",
      "The orange are aviable\n",
      "The apple are aviable\n",
      "The cherry are aviable\n",
      "The apple are aviable\n",
      "The bluebrry are aviable\n"
     ]
    }
   ],
   "source": [
    "for fruit in fruits:\n",
    "    print(f\"The {fruit} are aviable\")"
   ]
  },
  {
   "cell_type": "code",
   "execution_count": 14,
   "metadata": {},
   "outputs": [
    {
     "name": "stdout",
     "output_type": "stream",
     "text": [
      "1\n",
      "2\n",
      "3\n",
      "4\n",
      "5\n",
      "6\n",
      "7\n",
      "8\n",
      "9\n"
     ]
    }
   ],
   "source": [
    "for num in [1,2,3,4,5,6,7,8,9]:\n",
    "    print(num)"
   ]
  },
  {
   "cell_type": "code",
   "execution_count": 16,
   "metadata": {},
   "outputs": [
    {
     "name": "stdout",
     "output_type": "stream",
     "text": [
      "P\n",
      "a\n",
      "k\n",
      "i\n",
      "s\n",
      "t\n",
      "a\n",
      "n\n"
     ]
    }
   ],
   "source": [
    "country = \"Pakistan\"\n",
    "\n",
    "for char in country:\n",
    "    print(char)"
   ]
  },
  {
   "cell_type": "code",
   "execution_count": 17,
   "metadata": {},
   "outputs": [
    {
     "name": "stdout",
     "output_type": "stream",
     "text": [
      "Pakistan\n",
      "india\n"
     ]
    }
   ],
   "source": [
    "country = \"Pakistan\",\"india\"\n",
    "\n",
    "for char in country:\n",
    "    print(char)"
   ]
  },
  {
   "cell_type": "markdown",
   "metadata": {},
   "source": [
    "# for loop`s break and continue"
   ]
  },
  {
   "cell_type": "code",
   "execution_count": 25,
   "metadata": {},
   "outputs": [
    {
     "name": "stdout",
     "output_type": "stream",
     "text": [
      "5\n",
      "7\n",
      "9\n"
     ]
    }
   ],
   "source": [
    "for number in [5,7,9,6,8,4,5,65]:\n",
    "    if number%2==0:\n",
    "        break\n",
    "    print(number)"
   ]
  },
  {
   "cell_type": "code",
   "execution_count": 1,
   "metadata": {},
   "outputs": [
    {
     "name": "stdout",
     "output_type": "stream",
     "text": [
      "0\n",
      "1\n",
      "2\n",
      "3\n",
      "4\n",
      "5\n",
      "7\n",
      "9\n"
     ]
    }
   ],
   "source": [
    "for num in range(10):\n",
    "    if num==6 or num==8 :\n",
    "        continue\n",
    "    print(num)"
   ]
  },
  {
   "cell_type": "code",
   "execution_count": 5,
   "metadata": {},
   "outputs": [
    {
     "name": "stdout",
     "output_type": "stream",
     "text": [
      "Saylani Mass IT Training\n",
      "\tSaylani Mass IT Training\n",
      "Saylani Mass IT Training\n",
      "\tSaylani Mass IT Training\n",
      "Saylani Mass IT Training\n",
      "\tSaylani Mass IT Training\n",
      "Saylani Mass IT Training\n",
      "\tSaylani Mass IT Training\n",
      "Saylani Mass IT Training\n",
      "\tSaylani Mass IT Training\n"
     ]
    }
   ],
   "source": [
    "#Output No.1:\n",
    "for i in range(1,11):\n",
    "    if (i%2==0):\n",
    "        print(\"\\tSaylani Mass IT Training\")\n",
    "    else:\n",
    "        print(\"Saylani Mass IT Training\")"
   ]
  },
  {
   "cell_type": "code",
   "execution_count": 6,
   "metadata": {},
   "outputs": [
    {
     "name": "stdout",
     "output_type": "stream",
     "text": [
      "Saylani Mass IT Training\tSaylani Mass IT Training\n",
      "Saylani Mass IT Training\tSaylani Mass IT Training\n",
      "Saylani Mass IT Training\tSaylani Mass IT Training\n",
      "Saylani Mass IT Training\tSaylani Mass IT Training\n",
      "Saylani Mass IT Training\tSaylani Mass IT Training\n",
      "Saylani Mass IT Training\tSaylani Mass IT Training\n",
      "Saylani Mass IT Training\tSaylani Mass IT Training\n",
      "Saylani Mass IT Training\tSaylani Mass IT Training\n"
     ]
    }
   ],
   "source": [
    "#Output No.2:\n",
    "for i in range(1,9):\n",
    "    print(\"Saylani Mass IT Training\\tSaylani Mass IT Training\")"
   ]
  },
  {
   "cell_type": "code",
   "execution_count": 7,
   "metadata": {},
   "outputs": [
    {
     "name": "stdout",
     "output_type": "stream",
     "text": [
      "Saylani Mass IT Training\n",
      "\tSaylani Mass IT Training\n",
      "\t\tSaylani Mass IT Training\n",
      "\t\t\tSaylani Mass IT Training\n",
      "\t\tSaylani Mass IT Training\n",
      "\tSaylani Mass IT Training\n",
      "Saylani Mass IT Training\n"
     ]
    }
   ],
   "source": [
    "#Output No.4:\n",
    "for i in range(0,7):\n",
    "    if (i==0)or(i==6):\n",
    "        print(\"Saylani Mass IT Training\")\n",
    "    elif (i==1)or(i==5):\n",
    "        print(\"\\tSaylani Mass IT Training\")\n",
    "    elif (i==2)or(i==4):\n",
    "        print(\"\\t\\tSaylani Mass IT Training\")\n",
    "    else:\n",
    "        print(\"\\t\\t\\tSaylani Mass IT Training\")\n"
   ]
  },
  {
   "cell_type": "code",
   "execution_count": 1,
   "metadata": {},
   "outputs": [
    {
     "name": "stdout",
     "output_type": "stream",
     "text": [
      "Enter the Number of which you want to print table9\n",
      "9 * 1 = 9\n",
      "9 * 2 = 18\n",
      "9 * 3 = 27\n",
      "9 * 4 = 36\n",
      "9 * 5 = 45\n",
      "9 * 6 = 54\n",
      "9 * 7 = 63\n",
      "9 * 8 = 72\n",
      "9 * 9 = 81\n",
      "9 * 10 = 90\n"
     ]
    }
   ],
   "source": [
    "#question No.2:\n",
    "x=int(input(\"Enter the Number of which you want to print table\"))\n",
    "for i in range(1,11):\n",
    "    print (x,(\"*\"),i,(\"=\"),x*i)"
   ]
  },
  {
   "cell_type": "markdown",
   "metadata": {},
   "source": [
    "# Nested for Loop"
   ]
  },
  {
   "cell_type": "code",
   "execution_count": 2,
   "metadata": {
    "scrolled": false
   },
   "outputs": [
    {
     "name": "stdout",
     "output_type": "stream",
     "text": [
      "inner looop begins\n",
      "0 c\n",
      "0 h\n",
      "0 i\n",
      "0 n\n",
      "0 a\n",
      "inner looop begins\n",
      "1 c\n",
      "1 h\n",
      "1 i\n",
      "1 n\n",
      "1 a\n",
      "inner looop begins\n",
      "2 c\n",
      "2 h\n",
      "2 i\n",
      "2 n\n",
      "2 a\n"
     ]
    }
   ],
   "source": [
    "for a in range(3):\n",
    "    print(\"inner looop begins\")\n",
    "    for char in \"china\":\n",
    "        print(a,char)"
   ]
  },
  {
   "cell_type": "code",
   "execution_count": 4,
   "metadata": {},
   "outputs": [
    {
     "name": "stdout",
     "output_type": "stream",
     "text": [
      "Enter table = 5\n",
      "2*1=2\n",
      "2*2=4\n",
      "2*3=6\n",
      "2*4=8\n",
      "2*5=10\n",
      "2*6=12\n",
      "2*7=14\n",
      "2*8=16\n",
      "2*9=18\n",
      "2*10=20\n",
      "3*1=3\n",
      "3*2=6\n",
      "3*3=9\n",
      "3*4=12\n",
      "3*5=15\n",
      "3*6=18\n",
      "3*7=21\n",
      "3*8=24\n",
      "3*9=27\n",
      "3*10=30\n"
     ]
    }
   ],
   "source": [
    "tables = int(input(\"Enter table = \"))\n",
    "for table in range(2,tables-1):\n",
    "    for num in range(1,11):\n",
    "        print(f\"{table}*{num}={table*num}\")"
   ]
  },
  {
   "cell_type": "code",
   "execution_count": null,
   "metadata": {},
   "outputs": [],
   "source": []
  }
 ],
 "metadata": {
  "kernelspec": {
   "display_name": "Python 3",
   "language": "python",
   "name": "python3"
  },
  "language_info": {
   "codemirror_mode": {
    "name": "ipython",
    "version": 3
   },
   "file_extension": ".py",
   "mimetype": "text/x-python",
   "name": "python",
   "nbconvert_exporter": "python",
   "pygments_lexer": "ipython3",
   "version": "3.8.5"
  }
 },
 "nbformat": 4,
 "nbformat_minor": 4
}
