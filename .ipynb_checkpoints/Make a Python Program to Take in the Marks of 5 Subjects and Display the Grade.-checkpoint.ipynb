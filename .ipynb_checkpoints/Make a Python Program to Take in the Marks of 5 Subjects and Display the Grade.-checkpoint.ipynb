{
 "cells": [
  {
   "cell_type": "code",
   "execution_count": 5,
   "metadata": {},
   "outputs": [
    {
     "name": "stdout",
     "output_type": "stream",
     "text": [
      "enter English Obtanin marks percentage45\n",
      "enter urdu Obtanin percentage23\n",
      "enter Islamiyat Obtanin percentage32\n",
      "enter physics Obtanin percentage43\n",
      "enter computer Obtanin percentage34\n",
      "F\n"
     ]
    }
   ],
   "source": [
    "English = int(input('enter English Obtanin marks percentage'))\n",
    "urdu = int(input('enter urdu Obtanin percentage'))\n",
    "Islamiyat = int(input('enter Islamiyat Obtanin percentage'))\n",
    "physics = int(input('enter physics Obtanin percentage'))\n",
    "computer = int(input('enter computer Obtanin percentage'))\n",
    "totel_marks = English + urdu + Islamiyat + physics + computer\n",
    "totel_marks = totel_marks / 5\n",
    "if totel_marks > 80:\n",
    "    print('A')\n",
    "\n",
    "elif totel_marks > 70:\n",
    "    print('B')\n",
    "\n",
    "elif totel_marks > 60:\n",
    "    print('C')\n",
    "\n",
    "elif totel_marks > 50:\n",
    "    print('D')\n",
    "\n",
    "else:\n",
    "    print('F')"
   ]
  },
  {
   "cell_type": "code",
   "execution_count": null,
   "metadata": {},
   "outputs": [],
   "source": []
  },
  {
   "cell_type": "code",
   "execution_count": null,
   "metadata": {},
   "outputs": [],
   "source": []
  },
  {
   "cell_type": "code",
   "execution_count": null,
   "metadata": {},
   "outputs": [],
   "source": []
  }
 ],
 "metadata": {
  "kernelspec": {
   "display_name": "Python 3",
   "language": "python",
   "name": "python3"
  },
  "language_info": {
   "codemirror_mode": {
    "name": "ipython",
    "version": 3
   },
   "file_extension": ".py",
   "mimetype": "text/x-python",
   "name": "python",
   "nbconvert_exporter": "python",
   "pygments_lexer": "ipython3",
   "version": "3.8.5"
  }
 },
 "nbformat": 4,
 "nbformat_minor": 4
}
