{
 "cells": [
  {
   "cell_type": "code",
   "execution_count": 1,
   "metadata": {},
   "outputs": [
    {
     "name": "stdout",
     "output_type": "stream",
     "text": [
      "b is less then a\n"
     ]
    }
   ],
   "source": [
    "a = 300\n",
    "b = 200\n",
    "if a>b: #return True\n",
    "    print(\"b is less then a\")"
   ]
  },
  {
   "cell_type": "code",
   "execution_count": 2,
   "metadata": {},
   "outputs": [
    {
     "name": "stdout",
     "output_type": "stream",
     "text": [
      "Out of if statement\n"
     ]
    }
   ],
   "source": [
    "a = 300\n",
    "b = 200\n",
    "if a<b: #teturn False\n",
    "    print(\"b is less then a\")\n",
    "print(\"Out of if statement\")"
   ]
  },
  {
   "cell_type": "code",
   "execution_count": 4,
   "metadata": {},
   "outputs": [
    {
     "name": "stdout",
     "output_type": "stream",
     "text": [
      "b is less then a\n"
     ]
    }
   ],
   "source": [
    "a = 300\n",
    "b = 200\n",
    "if a>b: #teturn True\n",
    "    print(\"b is less then a\")\n",
    "else:\n",
    "    print(\"a is less then b\")"
   ]
  },
  {
   "cell_type": "code",
   "execution_count": 11,
   "metadata": {},
   "outputs": [
    {
     "name": "stdout",
     "output_type": "stream",
     "text": [
      "a = b\n"
     ]
    }
   ],
   "source": [
    "a = 300\n",
    "b = 300\n",
    "if a>b: #teturn True\n",
    "    print(\"b is less then a\")\n",
    "elif a==b:\n",
    "    print(\"a = b\")\n",
    "else:\n",
    "    print(\"a is less then b\")"
   ]
  },
  {
   "cell_type": "code",
   "execution_count": null,
   "metadata": {},
   "outputs": [],
   "source": []
  }
 ],
 "metadata": {
  "kernelspec": {
   "display_name": "Python 3",
   "language": "python",
   "name": "python3"
  },
  "language_info": {
   "codemirror_mode": {
    "name": "ipython",
    "version": 3
   },
   "file_extension": ".py",
   "mimetype": "text/x-python",
   "name": "python",
   "nbconvert_exporter": "python",
   "pygments_lexer": "ipython3",
   "version": "3.8.5"
  }
 },
 "nbformat": 4,
 "nbformat_minor": 4
}
