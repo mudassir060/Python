{
 "cells": [
  {
   "cell_type": "code",
   "execution_count": 1,
   "metadata": {},
   "outputs": [
    {
     "name": "stdout",
     "output_type": "stream",
     "text": [
      "b is less then a\n"
     ]
    }
   ],
   "source": [
    "a = 300\n",
    "b = 200\n",
    "if a>b: #return True\n",
    "    print(\"b is less then a\")"
   ]
  },
  {
   "cell_type": "code",
   "execution_count": 2,
   "metadata": {},
   "outputs": [
    {
     "name": "stdout",
     "output_type": "stream",
     "text": [
      "Out of if statement\n"
     ]
    }
   ],
   "source": [
    "a = 300\n",
    "b = 200\n",
    "if a<b: #teturn False\n",
    "    print(\"b is less then a\")\n",
    "print(\"Out of if statement\")"
   ]
  },
  {
   "cell_type": "code",
   "execution_count": 4,
   "metadata": {},
   "outputs": [
    {
     "name": "stdout",
     "output_type": "stream",
     "text": [
      "b is less then a\n"
     ]
    }
   ],
   "source": [
    "a = 300\n",
    "b = 200\n",
    "if a>b: #teturn True\n",
    "    print(\"b is less then a\")\n",
    "else:\n",
    "    print(\"a is less then b\")"
   ]
  },
  {
   "cell_type": "code",
   "execution_count": null,
   "metadata": {},
   "outputs": [],
   "source": [
    "a = 300\n",
    "b = 300\n",
    "if a>b: #teturn True\n",
    "    print(\"b is less then a\")\n",
    "elif a==b:\n",
    "    print(\"a = b\")\n",
    "else:\n",
    "    print(\"a is less then b\")"
   ]
  },
  {
   "cell_type": "markdown",
   "metadata": {},
   "source": [
    "# Make a Python Program to Take in the Marks of 5 Subjects and Display the Grade."
   ]
  },
  {
   "cell_type": "code",
   "execution_count": 1,
   "metadata": {},
   "outputs": [
    {
     "name": "stdout",
     "output_type": "stream",
     "text": [
      "Enter English Obtanin marks percentage85\n",
      "Enter urdu Obtanin percentage78\n",
      "Enter Islamiyat Obtanin percentage58\n",
      "Enter physics Obtanin percentage56\n",
      "Enter computer Obtanin percentage48\n",
      "C\n"
     ]
    }
   ],
   "source": [
    "English = int(input('Enter English Obtanin marks percentage = '))\n",
    "urdu = int(input('Enter urdu Obtanin percentage = '))\n",
    "Islamiyat = int(input('Enter Islamiyat Obtanin percentage = '))\n",
    "physics = int(input('Enter physics Obtanin percentage = '))\n",
    "computer = int(input('Enter computer Obtanin percentage = '))\n",
    "totel_marks = English + urdu + Islamiyat + physics + computer\n",
    "totel_marks = totel_marks / 5\n",
    "if totel_marks > 80:\n",
    "    print('A')\n",
    "\n",
    "elif totel_marks > 70:\n",
    "    print('B')\n",
    "\n",
    "elif totel_marks > 60:\n",
    "    print('C')\n",
    "\n",
    "elif totel_marks > 50:\n",
    "    print('D')\n",
    "\n",
    "else:\n",
    "    print('F')"
   ]
  },
  {
   "cell_type": "code",
   "execution_count": 2,
   "metadata": {},
   "outputs": [
    {
     "name": "stdout",
     "output_type": "stream",
     "text": [
      "Enter the first number: 45\n",
      "Enter the second number: 23\n",
      "Enter Operator +,-,*,/+\n",
      "68\n"
     ]
    }
   ],
   "source": [
    "num1 = int(input('Enter the first number: '))\n",
    "num2 = int(input('Enter the second number: '))\n",
    "operation =input('Enter Operator +,-,*,/')\n",
    "if operation == '+':\n",
    "    print(num1+num2)\n",
    "\n",
    "elif operation == '-':\n",
    "    print(num1-num2)\n",
    "\n",
    "elif operation == '*':\n",
    "    print(num1*num2)\n",
    "\n",
    "elif operation == '/':\n",
    "    print(num1/num2)\n",
    "\n",
    "else:\n",
    "    print('You have not typed a valid operator.')"
   ]
  },
  {
   "cell_type": "code",
   "execution_count": null,
   "metadata": {},
   "outputs": [],
   "source": []
  }
 ],
 "metadata": {
  "kernelspec": {
   "display_name": "Python 3",
   "language": "python",
   "name": "python3"
  },
  "language_info": {
   "codemirror_mode": {
    "name": "ipython",
    "version": 3
   },
   "file_extension": ".py",
   "mimetype": "text/x-python",
   "name": "python",
   "nbconvert_exporter": "python",
   "pygments_lexer": "ipython3",
   "version": "3.8.5"
  }
 },
 "nbformat": 4,
 "nbformat_minor": 4
}
