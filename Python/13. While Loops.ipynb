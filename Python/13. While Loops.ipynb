{
 "cells": [
  {
   "cell_type": "code",
   "execution_count": 1,
   "metadata": {},
   "outputs": [
    {
     "name": "stdout",
     "output_type": "stream",
     "text": [
      "0 This is while loop printing\n",
      "1 This is while loop printing\n",
      "2 This is while loop printing\n",
      "3 This is while loop printing\n",
      "4 This is while loop printing\n",
      "5 This is while loop printing\n",
      "6 This is while loop printing\n",
      "7 This is while loop printing\n",
      "8 This is while loop printing\n",
      "9 This is while loop printing\n"
     ]
    }
   ],
   "source": [
    "a = 0\n",
    "while a<10:\n",
    "    print(a,\"This is while loop printing\")\n",
    "    a+=1"
   ]
  },
  {
   "cell_type": "code",
   "execution_count": 2,
   "metadata": {},
   "outputs": [
    {
     "name": "stdout",
     "output_type": "stream",
     "text": [
      "0 This is while loop printing\n",
      "1 This is while loop printing\n",
      "2 This is while loop printing\n",
      "3 This is while loop printing\n",
      "4 This is while loop printing\n",
      "5 This is while loop printing\n",
      "6 This is while loop printing\n",
      "7 This is while loop printing\n",
      "8 This is while loop printing\n",
      "9 This is while loop printing\n"
     ]
    }
   ],
   "source": [
    "\n",
    "for num in range(0,10):\n",
    "    print(num,\"This is while loop printing\")"
   ]
  },
  {
   "cell_type": "code",
   "execution_count": 3,
   "metadata": {},
   "outputs": [
    {
     "name": "stdout",
     "output_type": "stream",
     "text": [
      "enter your favourite foods 0\n",
      "enter your favourite foods 0\n",
      "enter your favourite foods \n",
      "enter your favourite foods 0\n",
      "enter your favourite foods 0\n",
      "enter your favourite foods 0\n",
      "enter your favourite foods 0\n",
      "enter your favourite foods 0\n",
      "enter your favourite foods 0\n",
      "enter your favourite foods 0\n"
     ]
    }
   ],
   "source": [
    "a = 0\n",
    "while a < 10:\n",
    "    useInput=input(\"enter your favourite foods \")\n",
    "    a +=1"
   ]
  },
  {
   "cell_type": "markdown",
   "metadata": {},
   "source": [
    "# Setting a flag"
   ]
  },
  {
   "cell_type": "code",
   "execution_count": 4,
   "metadata": {},
   "outputs": [
    {
     "name": "stdout",
     "output_type": "stream",
     "text": [
      "enter your favourite foods 2\n",
      "enter your favourite foods 0\n"
     ]
    },
    {
     "data": {
      "text/plain": [
       "['2']"
      ]
     },
     "execution_count": 4,
     "metadata": {},
     "output_type": "execute_result"
    }
   ],
   "source": [
    "flag = True\n",
    "favFood = []\n",
    "while flag:\n",
    "    useInput=input(\"enter your favourite foods \")\n",
    "    if useInput==\"0\":\n",
    "        flag =False\n",
    "    else:\n",
    "        favFood.append(useInput)\n",
    "favFood\n",
    "\n",
    "    "
   ]
  },
  {
   "cell_type": "code",
   "execution_count": null,
   "metadata": {},
   "outputs": [],
   "source": []
  }
 ],
 "metadata": {
  "kernelspec": {
   "display_name": "Python 3",
   "language": "python",
   "name": "python3"
  },
  "language_info": {
   "codemirror_mode": {
    "name": "ipython",
    "version": 3
   },
   "file_extension": ".py",
   "mimetype": "text/x-python",
   "name": "python",
   "nbconvert_exporter": "python",
   "pygments_lexer": "ipython3",
   "version": "3.8.5"
  }
 },
 "nbformat": 4,
 "nbformat_minor": 4
}
